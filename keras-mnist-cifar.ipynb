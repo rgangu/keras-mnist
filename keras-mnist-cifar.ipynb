{
 "cells": [
  {
   "cell_type": "code",
   "execution_count": null,
   "metadata": {},
   "outputs": [],
   "source": [
    "import keras\n",
    "from keras.datasets import cifar10, mnist\n",
    "from keras.models import Sequential\n",
    "from keras.layers import Dense, Dropout, Flatten, Reshape\n",
    "from keras.layers import Conv2D, MaxPooling2D\n",
    "from keras import backend as K\n",
    "\n",
    "import numpy as np"
   ]
  },
  {
   "cell_type": "code",
   "execution_count": null,
   "metadata": {},
   "outputs": [],
   "source": [
    "# the data, shuffled and split between train and test sets\n",
    "def load_data(dataset):\n",
    "    # Load\n",
    "    (x_train, y_train), (x_test, y_test) = dataset.load_data()\n",
    "    # Reshape X\n",
    "    img_rows = x_train.shape[1]\n",
    "    img_cols = x_train.shape[2]\n",
    "    n_channels = x_train.shape[3] if len(x_train.shape) == 4 else 1\n",
    "    if K.image_data_format() == 'channels_first':\n",
    "        s = [n_channels, img_rows, img_cols]\n",
    "    else:\n",
    "        s = [img_rows, img_cols, n_channels]\n",
    "    x_train = x_train.reshape(x_train.shape[0], *s)\n",
    "    x_test = x_test.reshape(x_test.shape[0], *s)\n",
    "    # Rescale X\n",
    "    x_train = x_train.astype('float32')\n",
    "    x_test = x_test.astype('float32')\n",
    "    x_train /= 255\n",
    "    x_test /= 255\n",
    "    # Reshape y\n",
    "    num_classes = len(np.unique(y_train))\n",
    "    y_train = keras.utils.to_categorical(y_train, num_classes)\n",
    "    y_test = keras.utils.to_categorical(y_test, num_classes)\n",
    "    return (x_train, y_train), (x_test, y_test), img_rows, img_cols"
   ]
  },
  {
   "cell_type": "code",
   "execution_count": null,
   "metadata": {},
   "outputs": [],
   "source": [
    "(x_train, y_train), (x_test, y_test), img_rows, img_cols = load_data(cifar10)"
   ]
  },
  {
   "cell_type": "code",
   "execution_count": null,
   "metadata": {},
   "outputs": [],
   "source": [
    "print('x_train shape:', x_train.shape)\n",
    "print(x_train.shape[0], 'train samples')\n",
    "print(x_test.shape[0], 'test samples')"
   ]
  },
  {
   "cell_type": "code",
   "execution_count": null,
   "metadata": {},
   "outputs": [],
   "source": [
    "linear = Sequential()\n",
    "linear.add(Flatten(input_shape=x_train.shape[1:]))\n",
    "linear.add(Dense(units=10, activation='softmax'))"
   ]
  },
  {
   "cell_type": "code",
   "execution_count": null,
   "metadata": {},
   "outputs": [],
   "source": [
    "small_cnn = Sequential()\n",
    "\n",
    "small_cnn.add(Conv2D(32, (3, 3), activation='relu', input_shape=x_train.shape[1:]))\n",
    "small_cnn.add(Conv2D(32, (3, 3), activation='relu'))\n",
    "small_cnn.add(MaxPooling2D(pool_size=(2, 2)))\n",
    "small_cnn.add(Dropout(0.3))\n",
    "\n",
    "small_cnn.add(Conv2D(64, (3, 3), activation='relu'))\n",
    "small_cnn.add(Conv2D(64, (3, 3), activation='relu'))\n",
    "small_cnn.add(MaxPooling2D(pool_size=(2, 2)))\n",
    "small_cnn.add(Dropout(0.3))\n",
    "\n",
    "small_cnn.add(Flatten())\n",
    "\n",
    "small_cnn.add(Dense(units=10, activation='softmax'))"
   ]
  },
  {
   "cell_type": "code",
   "execution_count": null,
   "metadata": {
    "collapsed": true
   },
   "outputs": [],
   "source": [
    "#model = linear\n",
    "model = small_cnn"
   ]
  },
  {
   "cell_type": "code",
   "execution_count": null,
   "metadata": {},
   "outputs": [],
   "source": [
    "model.compile(loss=keras.losses.categorical_crossentropy,\n",
    "              optimizer=keras.optimizers.Adadelta(),\n",
    "              metrics=['accuracy'])"
   ]
  },
  {
   "cell_type": "code",
   "execution_count": null,
   "metadata": {
    "scrolled": true
   },
   "outputs": [],
   "source": [
    "n_train    = 6000\n",
    "batch_size = 128\n",
    "epochs     = 10\n",
    "\n",
    "model.fit(x_train[:n_train], y_train[:n_train],\n",
    "          batch_size=batch_size,\n",
    "          epochs=epochs,\n",
    "          verbose=1,\n",
    "          validation_data=(x_test, y_test))"
   ]
  },
  {
   "cell_type": "code",
   "execution_count": null,
   "metadata": {},
   "outputs": [],
   "source": [
    "_, acc = model.evaluate(x_test, y_test, verbose=0)\n",
    "print('Test accuracy:', acc)"
   ]
  }
 ],
 "metadata": {
  "kernelspec": {
   "display_name": "Python 3",
   "language": "python",
   "name": "python3"
  },
  "language_info": {
   "codemirror_mode": {
    "name": "ipython",
    "version": 3
   },
   "file_extension": ".py",
   "mimetype": "text/x-python",
   "name": "python",
   "nbconvert_exporter": "python",
   "pygments_lexer": "ipython3",
   "version": "3.6.1"
  }
 },
 "nbformat": 4,
 "nbformat_minor": 2
}
